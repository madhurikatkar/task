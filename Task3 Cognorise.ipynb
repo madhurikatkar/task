{
 "cells": [
  {
   "cell_type": "code",
   "execution_count": 5,
   "metadata": {},
   "outputs": [
    {
     "name": "stdout",
     "output_type": "stream",
     "text": [
      "Choose Rock, Paper, or Scissors: Paper\n",
      "You chose:  Paper\n",
      "Computer chose:  Scissors\n",
      "Computer wins!\n"
     ]
    }
   ],
   "source": [
    "\n",
    "import random\n",
    "\n",
    " \n",
    "\n",
    "options = [\"Rock\", \"Paper\", \"Scissors\"]\n",
    "\n",
    " \n",
    "\n",
    "user_choice = input(\"Choose Rock, Paper, or Scissors: \")\n",
    "\n",
    "computer_choice = random.choice(options)\n",
    "\n",
    " \n",
    "\n",
    "print(\"You chose: \", user_choice)\n",
    "\n",
    "print(\"Computer chose: \", computer_choice)\n",
    "\n",
    " \n",
    "\n",
    "if user_choice == computer_choice:\n",
    "\n",
    "    print(\"It's a tie!\")\n",
    "\n",
    "elif user_choice == \"Rock\" and computer_choice == \"Scissors\":\n",
    "\n",
    "    print(\"You win!\")\n",
    "\n",
    "elif user_choice == \"Paper\" and computer_choice == \"Rock\":\n",
    "\n",
    "    print(\"You win!\")\n",
    "\n",
    "elif user_choice == \"Scissors\" and computer_choice == \"Paper\":\n",
    "\n",
    "    print(\"You win!\")\n",
    "\n",
    "else:\n",
    "\n",
    "    print(\"Computer wins!\")\n"
   ]
  },
  {
   "cell_type": "code",
   "execution_count": null,
   "metadata": {},
   "outputs": [],
   "source": []
  },
  {
   "cell_type": "code",
   "execution_count": null,
   "metadata": {},
   "outputs": [],
   "source": []
  }
 ],
 "metadata": {
  "kernelspec": {
   "display_name": "Python 3",
   "language": "python",
   "name": "python3"
  },
  "language_info": {
   "codemirror_mode": {
    "name": "ipython",
    "version": 3
   },
   "file_extension": ".py",
   "mimetype": "text/x-python",
   "name": "python",
   "nbconvert_exporter": "python",
   "pygments_lexer": "ipython3",
   "version": "3.8.5"
  }
 },
 "nbformat": 4,
 "nbformat_minor": 4
}
