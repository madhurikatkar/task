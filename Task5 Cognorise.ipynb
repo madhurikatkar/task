{
 "cells": [
  {
   "cell_type": "code",
   "execution_count": null,
   "metadata": {},
   "outputs": [
    {
     "name": "stdout",
     "output_type": "stream",
     "text": [
      "What is your name? geeks\n",
      "Good Luck!  geeks\n",
      "Guess the characters\n",
      "_ _ _ _ _ _ _ \n"
     ]
    }
   ],
   "source": [
    "import random\n",
    "\n",
    "name = input(\"What is your name? \")\n",
    "print(\"Good Luck! \", name)\n",
    "\n",
    "words = ['rainbow', 'computer', 'science', 'programming',\n",
    "         'python', 'mathematics', 'player', 'condition',\n",
    "         'reverse', 'water', 'board', 'geeks']\n",
    "\n",
    "word = random.choice(words).lower()  # Make the word lowercase\n",
    "\n",
    "print(\"Guess the characters\")\n",
    "\n",
    "guesses = ''\n",
    "turns = 12\n",
    "\n",
    "while turns > 0:\n",
    "    failed = 0\n",
    "\n",
    "    for char in word:\n",
    "        if char in guesses:\n",
    "            print(char, end=\" \")\n",
    "        else:\n",
    "            print(\"_\", end=\" \")\n",
    "\n",
    "            failed += 1\n",
    "\n",
    "    if failed == 0:\n",
    "        print(\"\\nYou Win\")\n",
    "        print(\"The word is: \", word)\n",
    "        break\n",
    "\n",
    "    print()\n",
    "    guess = input(\"Guess a character:\").lower()  # Make the user input lowercase\n",
    "\n",
    "    guesses += guess\n",
    "\n",
    "    if guess not in word:\n",
    "        turns -= 1\n",
    "        print(\"Wrong\")\n",
    "        print(\"You have\", turns, 'more guesses')\n",
    "\n",
    "        if turns == 0:\n",
    "            print(\"You Lose\")\n"
   ]
  },
  {
   "cell_type": "code",
   "execution_count": null,
   "metadata": {},
   "outputs": [],
   "source": []
  }
 ],
 "metadata": {
  "kernelspec": {
   "display_name": "Python 3",
   "language": "python",
   "name": "python3"
  },
  "language_info": {
   "codemirror_mode": {
    "name": "ipython",
    "version": 3
   },
   "file_extension": ".py",
   "mimetype": "text/x-python",
   "name": "python",
   "nbconvert_exporter": "python",
   "pygments_lexer": "ipython3",
   "version": "3.8.5"
  }
 },
 "nbformat": 4,
 "nbformat_minor": 4
}
